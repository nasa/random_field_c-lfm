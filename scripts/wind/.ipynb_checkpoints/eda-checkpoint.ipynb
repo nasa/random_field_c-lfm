{
 "cells": [
  {
   "cell_type": "code",
   "execution_count": 1,
   "id": "a5d1b9d6-e233-47f4-bf68-4bee90d7e27b",
   "metadata": {},
   "outputs": [],
   "source": [
    "import h5py\n",
    "import numpy as np\n",
    "import matplotlib.pyplot as plt\n",
    "from matplotlib.animation import FuncAnimation"
   ]
  },
  {
   "cell_type": "code",
   "execution_count": 2,
   "id": "e512d611-3dbe-4f34-8b96-0086f8b9db15",
   "metadata": {},
   "outputs": [],
   "source": [
    "f = h5py.File('../../data/wind/wind_samples_scalar_high-res_N5000.hdf5', 'r')"
   ]
  },
  {
   "cell_type": "code",
   "execution_count": 9,
   "id": "656f100a-ed57-47f9-b6a9-27830a9b9ad4",
   "metadata": {},
   "outputs": [
    {
     "data": {
      "text/plain": [
       "(-12.24310835666989, 45.58061122328174)"
      ]
     },
     "execution_count": 9,
     "metadata": {},
     "output_type": "execute_result"
    }
   ],
   "source": [
    "u = np.array(f['wind_samples']['0']['v1']).reshape(10, 10, 256)\n",
    "u.min(), u.max()"
   ]
  },
  {
   "cell_type": "code",
   "execution_count": 15,
   "id": "022b8504-ed04-468f-a466-f1054d5dfbb5",
   "metadata": {},
   "outputs": [],
   "source": [
    "from pathlib import Path\n",
    "from torch.utils.data import Dataset\n",
    "\n",
    "class WindDataset(Dataset):\n",
    "    def __init__(\n",
    "            self,\n",
    "            path = Path()\n",
    "        ):\n",
    "        super().__init__()\n",
    "\n",
    "data = WindDataset()"
   ]
  },
  {
   "cell_type": "code",
   "execution_count": 10,
   "id": "ab18faef-ce08-4707-a579-cc730e4fa287",
   "metadata": {},
   "outputs": [],
   "source": [
    "# fig, ax = plt.subplots(1, 1)\n",
    "# Q = fig.colorbar(ax.pcolor(u[:, :, 0].T, vmin = -10, vmax = 50))\n",
    "\n",
    "# def update(i):\n",
    "#     global Q\n",
    "#     Q.remove()\n",
    "#     Q = fig.colorbar(ax.pcolor(u[:, :, i].T, vmin = -10, vmax = 40))\n",
    "#     print(i)\n",
    "    \n",
    "# ani = FuncAnimation(fig, update, frames = range(256))"
   ]
  },
  {
   "cell_type": "code",
   "execution_count": 11,
   "id": "50b7dd6e-c59d-492b-9913-0a16cdd9d21d",
   "metadata": {},
   "outputs": [],
   "source": [
    "# ani.save('wind.gif', fps = 30)"
   ]
  },
  {
   "cell_type": "code",
   "execution_count": null,
   "id": "c62d57fc-f09b-48b2-a7d2-4e01aec2e6e1",
   "metadata": {},
   "outputs": [],
   "source": []
  },
  {
   "cell_type": "code",
   "execution_count": null,
   "id": "b8fcf0be-b96f-49a3-998e-dae561bcd331",
   "metadata": {},
   "outputs": [],
   "source": []
  }
 ],
 "metadata": {
  "kernelspec": {
   "display_name": "Python [conda env:fgm] *",
   "language": "python",
   "name": "conda-env-fgm-py"
  },
  "language_info": {
   "codemirror_mode": {
    "name": "ipython",
    "version": 3
   },
   "file_extension": ".py",
   "mimetype": "text/x-python",
   "name": "python",
   "nbconvert_exporter": "python",
   "pygments_lexer": "ipython3",
   "version": "3.10.15"
  }
 },
 "nbformat": 4,
 "nbformat_minor": 5
}
