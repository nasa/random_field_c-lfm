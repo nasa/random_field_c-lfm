{
 "cells": [
  {
   "cell_type": "code",
   "execution_count": 1,
   "id": "0b6fea6b-eae9-4717-9cbb-e9cf83deabc5",
   "metadata": {},
   "outputs": [],
   "source": [
    "import torch\n",
    "import torch.nn.functional as F\n",
    "from torch import Tensor\n",
    "\n",
    "import numpy as np\n",
    "import matplotlib.pyplot as plt\n",
    "\n",
    "from hdf5_sample_data import get_wind_samples_from_hdf5,\\\n",
    "    get_time_grid_from_hdf5, get_x_grid_from_hdf5"
   ]
  },
  {
   "cell_type": "code",
   "execution_count": 2,
   "id": "f5ec4a9b-2492-46cd-acf4-b1af32807f85",
   "metadata": {},
   "outputs": [],
   "source": [
    "# HDF5_HI_RES = '../../data/wind/wind_samples_scalar_high-res_N5000.hdf5'\n",
    "HDF5_HI_RES = '../../data/wind/wind_samples_scalar_high-res_N5000.hdf5'\n",
    "samples_hi = get_wind_samples_from_hdf5(HDF5_HI_RES, vector_field=False)\n",
    "x_coords_hi = get_x_grid_from_hdf5(HDF5_HI_RES)\n",
    "time_steps_hi = get_time_grid_from_hdf5(HDF5_HI_RES)\n",
    "delta_t_hi = time_steps_hi[1] - time_steps_hi[0]"
   ]
  },
  {
   "cell_type": "code",
   "execution_count": 3,
   "id": "b313d54a-c3bf-47ae-8a8f-91947a422c18",
   "metadata": {},
   "outputs": [],
   "source": [
    "# constants used for coherence evaluation:\n",
    "#decay coefficients determine how fast coh. decays in each direction\n",
    "C = [3.0, 3.0, 0.5] \n",
    "# constants determining mean wind velocity\n",
    "U_STAR = 1.90       # shear velocity\n",
    "Z_0 = 0.015         # roughness length\n",
    "\n",
    "def get_true_coherence(freq, x_coord_j, x_coord_k):\n",
    "    '''\n",
    "    Evaluate prescribed coherence function for given frequency and spatial coordinates\n",
    "    '''\n",
    "    mean_vel_j = 2.5 * U_STAR *np.log(x_coord_j[2] / Z_0)\n",
    "    mean_vel_k = 2.5 * U_STAR *np.log(x_coord_k[2] / Z_0)\n",
    "    numerator = freq * np.linalg.norm(np.multiply(C, x_coord_j - x_coord_k))\n",
    "    denominator = np.abs(mean_vel_j) + np.abs(mean_vel_k)\n",
    "    coherence = np.exp(-numerator / denominator)\n",
    "    return coherence\n",
    "\n",
    "def stft(signal: Tensor, nperseg: int, hop_length: int = None):\n",
    "    ## parameters\n",
    "    n_fft = nperseg\n",
    "    window = torch.hann_window(nperseg).to(signal.device)\n",
    "\n",
    "    if hop_length == None:\n",
    "        noverlap = nperseg // 2\n",
    "        hop_length = nperseg - noverlap\n",
    "        \n",
    "    # ## decide on number of padding elements on each end of the signal\n",
    "    # padding_left = (n_fft // 2) if (n_fft % 2 == 0) else (n_fft - 1) // 2\n",
    "    # padding_right = (n_fft // 2)\n",
    "    # signal = F.pad(signal, (padding_left, padding_right), mode = 'circular') ## strange that I have to use circular padding\n",
    "\n",
    "    # ## convert the signal into sliding windows\n",
    "    segments = signal.unfold(1, nperseg, hop_length)\n",
    "    ## individually detrend each window\n",
    "    segments = segments - segments.mean(dim = 2, keepdim = True)\n",
    "    ## apply hann window\n",
    "    segments = window[None, None, :] * segments\n",
    "    \n",
    "    ## compute fft on each window\n",
    "    w = torch.fft.fft(segments, n = n_fft)\n",
    "    return w[:, :, :nperseg // 2 + 1] ## the other half contains redundant information somehow\n",
    "    # return w\n",
    "\n",
    "def csd(signal1: Tensor, signal2: Tensor, nperseg: int, hop_length: int = None):\n",
    "    stft1 = stft(signal1, nperseg, hop_length)\n",
    "    stft2 = stft(signal2, nperseg, hop_length)\n",
    "    result = torch.mean(stft1 * stft2.conj(), dim = 0)\n",
    "    return result\n",
    "\n",
    "def coherence(signal1: Tensor, signal2: Tensor, nperseg: int, hop_length: int = None):\n",
    "    Pjj = csd(signal1, signal1, nperseg, hop_length) ## (windows x 1/2 num_freqeuncies)\n",
    "    Pkk = csd(signal2, signal2, nperseg, hop_length)\n",
    "    Pjk = csd(signal1, signal2, nperseg, hop_length)\n",
    "\n",
    "    ## Compute coherence \n",
    "    coh = (torch.abs(Pjk) ** 2 / (Pjj * Pkk)).real\n",
    "    return coh.mean(dim = 0) ## average over windows"
   ]
  },
  {
   "cell_type": "code",
   "execution_count": 4,
   "id": "9636810c-17a9-4a2c-8739-a0928c0c3164",
   "metadata": {},
   "outputs": [
    {
     "name": "stdout",
     "output_type": "stream",
     "text": [
      "[ 0.          0.         66.67333333]\n"
     ]
    },
    {
     "data": {
      "image/png": "[encoded data removed]",
      "text/plain": [
       "<Figure size 640x480 with 1 Axes>"
      ]
     },
     "metadata": {},
     "output_type": "display_data"
    }
   ],
   "source": [
    "ind1 = 2\n",
    "ind2 = 6\n",
    "\n",
    "# ind1 = 10\n",
    "# ind2 = 11\n",
    "x_1_hi = x_coords_hi[ind1, :]\n",
    "vel_1_hi = samples_hi[:, ind1, :]\n",
    "x_2_hi = x_coords_hi[ind2, :]\n",
    "vel_2_hi = samples_hi[:, ind2, :]\n",
    "\n",
    "print(x_2_hi)\n",
    "\n",
    "## signals\n",
    "v1 = torch.tensor(vel_1_hi)\n",
    "v2 = torch.tensor(vel_2_hi)\n",
    "    \n",
    "fig, ax = plt.subplots(1, 1)\n",
    "ax.set_xlabel('Frequency')\n",
    "ax.set_ylabel('Coherence')\n",
    "\n",
    "powers = list(range(2, 10, 2))\n",
    "true_freq_bins = torch.fft.rfftfreq(2**powers[-1], d = delta_t_hi)\n",
    "true_coh = torch.tensor([get_true_coherence(f, x_1_hi, x_2_hi) ** 2 for f in true_freq_bins])\n",
    "ax.plot(true_freq_bins, true_coh, label = 'True')\n",
    "# for power in powers:\n",
    "    \n",
    "#     nperseg = int(2 ** power)\n",
    "#     coh = coherence(v1, v2, nperseg)\n",
    "#     freq_bins = torch.fft.rfftfreq(nperseg, d = delta_t_hi)\n",
    "#     ax.plot(freq_bins, coh, label = f'PyTorch: nperseg = 2^{power}')\n",
    "\n",
    "nperseg = v1.shape[-1] // 2 #int(2 ** power)\n",
    "coh = coherence(v1, v2, nperseg)\n",
    "freq_bins = torch.fft.rfftfreq(nperseg, d = delta_t_hi)\n",
    "ax.plot(freq_bins, coh, label = f'PyTorch')\n",
    "        \n",
    "        \n",
    "ax.legend()\n",
    "plt.show()\n",
    "fig.savefig('nperseg.png')"
   ]
  },
  {
   "cell_type": "code",
   "execution_count": 13,
   "id": "097b7838-aec4-49a0-abee-11311b69c5ad",
   "metadata": {},
   "outputs": [
    {
     "name": "stdout",
     "output_type": "stream",
     "text": [
      "torch.Size([5000, 256]) torch.Size([5000, 256])\n"
     ]
    },
    {
     "data": {
      "text/plain": [
       "torch.Size([3, 65])"
      ]
     },
     "execution_count": 13,
     "metadata": {},
     "output_type": "execute_result"
    }
   ],
   "source": [
    "print(v1.shape, v2.shape)\n",
    "\n",
    "\n",
    "stft(v1, nperseg).shape\n",
    "\n",
    "stft1 = stft(v1, nperseg)\n",
    "stft2 = stft(v2, nperseg)\n",
    "\n",
    "result = torch.mean(stft1 * stft2.conj(), dim = 0)\n",
    "result.shape"
   ]
  },
  {
   "cell_type": "code",
   "execution_count": null,
   "id": "d4708ddb-9851-469a-b5d5-1f7e6f8ad164",
   "metadata": {},
   "outputs": [],
   "source": []
  },
  {
   "cell_type": "code",
   "execution_count": null,
   "id": "356117d9-a6c1-4035-a715-8d2ff8db8a8e",
   "metadata": {},
   "outputs": [],
   "source": []
  },
  {
   "cell_type": "code",
   "execution_count": null,
   "id": "d77b55c3-de92-42d4-a743-ccac51a2d5b3",
   "metadata": {},
   "outputs": [],
   "source": []
  },
  {
   "cell_type": "code",
   "execution_count": null,
   "id": "11c68670-49f4-4188-be89-23f7afb37dc8",
   "metadata": {},
   "outputs": [],
   "source": []
  }
 ],
 "metadata": {
  "kernelspec": {
   "display_name": "Python [conda env:fgm] *",
   "language": "python",
   "name": "conda-env-fgm-py"
  },
  "language_info": {
   "codemirror_mode": {
    "name": "ipython",
    "version": 3
   },
   "file_extension": ".py",
   "mimetype": "text/x-python",
   "name": "python",
   "nbconvert_exporter": "python",
   "pygments_lexer": "ipython3",
   "version": "3.10.15"
  }
 },
 "nbformat": 4,
 "nbformat_minor": 5
}
